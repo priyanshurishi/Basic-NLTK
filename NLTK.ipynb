{
  "nbformat": 4,
  "nbformat_minor": 0,
  "metadata": {
    "colab": {
      "name": "NLTK.ipynb",
      "provenance": [],
      "authorship_tag": "ABX9TyP2mu79lydjwZiBoioAd6dv",
      "include_colab_link": true
    },
    "kernelspec": {
      "name": "python3",
      "display_name": "Python 3"
    }
  },
  "cells": [
    {
      "cell_type": "markdown",
      "metadata": {
        "id": "view-in-github",
        "colab_type": "text"
      },
      "source": [
        "<a href=\"https://colab.research.google.com/github/priyanshurishi/Basic-NLTK/blob/main/NLTK.ipynb\" target=\"_parent\"><img src=\"https://colab.research.google.com/assets/colab-badge.svg\" alt=\"Open In Colab\"/></a>"
      ]
    },
    {
      "cell_type": "code",
      "metadata": {
        "id": "CBHffw8PPDGy",
        "outputId": "e20863ff-f7ba-45c8-9cbf-71e41d339f50",
        "colab": {
          "base_uri": "https://localhost:8080/",
          "height": 961
        }
      },
      "source": [
        "import nltk\n",
        "from nltk.tokenize import word_tokenize\n",
        "from nltk.stem import PorterStemmer\n",
        "nltk.download('punkt')\n",
        "nltk.download('averaged_perceptron_tagger')\n",
        "from nltk.tag import DefaultTagger\n",
        "\n",
        "#L = [\"Geeks\\n\", \"for\\n\", \"Geeks\\n\"]\n",
        "text = [\"Satisfaction with the overall quality of the product and its specific dimensions is usually obtained through various methods of customer surveys. Based on the five-point-scale data, several metrics with slight variations can be constructed and used, depending on the purpose of analysis.\"]\n",
        "\n",
        "#writing to file\n",
        "files = open('PY.txt', 'w')\n",
        "files.writelines(text)\n",
        "files.close()\n",
        "#Using readlines ()\n",
        "files = open('PY.txt', 'r')\n",
        "Lines = files.readlines ()\n",
        "#count = 0\n",
        "# Strips the nevline character\n",
        "for line in Lines:\n",
        "  print(line +\"\\n\")\n",
        "#stemming the required sentence\n",
        "ps = PorterStemmer() \n",
        "for line in Lines :\n",
        "  words = word_tokenize(line)   #tokenizing the sentence to words\n",
        "print(words)\n",
        "\n",
        "for w in words:\n",
        "  print(w, \":\", ps.stem(w))\n",
        "#POS_tagging the words in the sentence\n",
        "word = nltk.pos_tag(words)\n",
        "print(word)\n",
        "\n"
      ],
      "execution_count": null,
      "outputs": [
        {
          "output_type": "stream",
          "text": [
            "[nltk_data] Downloading package punkt to /root/nltk_data...\n",
            "[nltk_data]   Package punkt is already up-to-date!\n",
            "[nltk_data] Downloading package averaged_perceptron_tagger to\n",
            "[nltk_data]     /root/nltk_data...\n",
            "[nltk_data]   Unzipping taggers/averaged_perceptron_tagger.zip.\n",
            "Satisfaction with the overall quality of the product and its specific dimensions is usually obtained through various methods of customer surveys. Based on the five-point-scale data, several metrics with slight variations can be constructed and used, depending on the purpose of analysis.\n",
            "\n",
            "['Satisfaction', 'with', 'the', 'overall', 'quality', 'of', 'the', 'product', 'and', 'its', 'specific', 'dimensions', 'is', 'usually', 'obtained', 'through', 'various', 'methods', 'of', 'customer', 'surveys', '.', 'Based', 'on', 'the', 'five-point-scale', 'data', ',', 'several', 'metrics', 'with', 'slight', 'variations', 'can', 'be', 'constructed', 'and', 'used', ',', 'depending', 'on', 'the', 'purpose', 'of', 'analysis', '.']\n",
            "Satisfaction : satisfact\n",
            "with : with\n",
            "the : the\n",
            "overall : overal\n",
            "quality : qualiti\n",
            "of : of\n",
            "the : the\n",
            "product : product\n",
            "and : and\n",
            "its : it\n",
            "specific : specif\n",
            "dimensions : dimens\n",
            "is : is\n",
            "usually : usual\n",
            "obtained : obtain\n",
            "through : through\n",
            "various : variou\n",
            "methods : method\n",
            "of : of\n",
            "customer : custom\n",
            "surveys : survey\n",
            ". : .\n",
            "Based : base\n",
            "on : on\n",
            "the : the\n",
            "five-point-scale : five-point-scal\n",
            "data : data\n",
            ", : ,\n",
            "several : sever\n",
            "metrics : metric\n",
            "with : with\n",
            "slight : slight\n",
            "variations : variat\n",
            "can : can\n",
            "be : be\n",
            "constructed : construct\n",
            "and : and\n",
            "used : use\n",
            ", : ,\n",
            "depending : depend\n",
            "on : on\n",
            "the : the\n",
            "purpose : purpos\n",
            "of : of\n",
            "analysis : analysi\n",
            ". : .\n",
            "[('Satisfaction', 'NN'), ('with', 'IN'), ('the', 'DT'), ('overall', 'JJ'), ('quality', 'NN'), ('of', 'IN'), ('the', 'DT'), ('product', 'NN'), ('and', 'CC'), ('its', 'PRP$'), ('specific', 'JJ'), ('dimensions', 'NNS'), ('is', 'VBZ'), ('usually', 'RB'), ('obtained', 'VBN'), ('through', 'IN'), ('various', 'JJ'), ('methods', 'NNS'), ('of', 'IN'), ('customer', 'NN'), ('surveys', 'NNS'), ('.', '.'), ('Based', 'VBN'), ('on', 'IN'), ('the', 'DT'), ('five-point-scale', 'JJ'), ('data', 'NNS'), (',', ','), ('several', 'JJ'), ('metrics', 'NNS'), ('with', 'IN'), ('slight', 'JJ'), ('variations', 'NNS'), ('can', 'MD'), ('be', 'VB'), ('constructed', 'VBN'), ('and', 'CC'), ('used', 'VBN'), (',', ','), ('depending', 'VBG'), ('on', 'IN'), ('the', 'DT'), ('purpose', 'NN'), ('of', 'IN'), ('analysis', 'NN'), ('.', '.')]\n"
          ],
          "name": "stdout"
        }
      ]
    },
    {
      "cell_type": "code",
      "metadata": {
        "id": "p-myRnu_P4Ac"
      },
      "source": [
        ""
      ],
      "execution_count": null,
      "outputs": []
    }
  ]
}